{
 "cells": [
  {
   "cell_type": "code",
   "execution_count": 1,
   "id": "e8126578-e53b-4535-9568-6c34e25ea820",
   "metadata": {},
   "outputs": [
    {
     "data": {
      "application/vnd.jupyter.widget-view+json": {
       "model_id": "79b241262b6f4b02b024bd17f7516dc8",
       "version_major": 2,
       "version_minor": 0
      },
      "text/plain": [
       "Dropdown(description='Batch 1:', options=('All', 'E_2022_42_CEB', 'E_2022_45_CEB', 'E_2021_27_CEB', 'E_2023_15…"
      ]
     },
     "metadata": {},
     "output_type": "display_data"
    },
    {
     "data": {
      "application/vnd.jupyter.widget-view+json": {
       "model_id": "72002be77af64e0f8d7f5ca3507d0920",
       "version_major": 2,
       "version_minor": 0
      },
      "text/plain": [
       "Dropdown(description='Gender 1:', options=('All',), value='All')"
      ]
     },
     "metadata": {},
     "output_type": "display_data"
    },
    {
     "data": {
      "application/vnd.jupyter.widget-view+json": {
       "model_id": "d703e09f3d6f41b789466a4600bf7908",
       "version_major": 2,
       "version_minor": 0
      },
      "text/plain": [
       "Dropdown(description='Code 1:', options=('All',), value='All')"
      ]
     },
     "metadata": {},
     "output_type": "display_data"
    },
    {
     "data": {
      "application/vnd.jupyter.widget-view+json": {
       "model_id": "d6985ccebe07409ea057d1221bfe6c0f",
       "version_major": 2,
       "version_minor": 0
      },
      "text/plain": [
       "Dropdown(description='Batch 2:', options=('All', 'E_2022_42_CEB', 'E_2022_45_CEB', 'E_2021_27_CEB', 'E_2023_15…"
      ]
     },
     "metadata": {},
     "output_type": "display_data"
    },
    {
     "data": {
      "application/vnd.jupyter.widget-view+json": {
       "model_id": "fe749178f93644a9a9da215c501ed4da",
       "version_major": 2,
       "version_minor": 0
      },
      "text/plain": [
       "Dropdown(description='Gender 2:', options=('All',), value='All')"
      ]
     },
     "metadata": {},
     "output_type": "display_data"
    },
    {
     "data": {
      "application/vnd.jupyter.widget-view+json": {
       "model_id": "6591f1b397a74afdaefadad55f60eff1",
       "version_major": 2,
       "version_minor": 0
      },
      "text/plain": [
       "Dropdown(description='Code 2:', options=('All',), value='All')"
      ]
     },
     "metadata": {},
     "output_type": "display_data"
    },
    {
     "data": {
      "application/vnd.jupyter.widget-view+json": {
       "model_id": "2393c8c23f91428ab73dd41bb75312d6",
       "version_major": 2,
       "version_minor": 0
      },
      "text/plain": [
       "Button(description='Plot Survival Curve', style=ButtonStyle())"
      ]
     },
     "metadata": {},
     "output_type": "display_data"
    },
    {
     "data": {
      "application/vnd.jupyter.widget-view+json": {
       "model_id": "ddfbead09fae43328967d701c120d4b1",
       "version_major": 2,
       "version_minor": 0
      },
      "text/plain": [
       "Output()"
      ]
     },
     "metadata": {},
     "output_type": "display_data"
    }
   ],
   "source": [
    "import pandas as pd\n",
    "import ipywidgets as widgets\n",
    "from IPython.display import display, clear_output\n",
    "from lifelines import KaplanMeierFitter\n",
    "import matplotlib.pyplot as plt\n",
    "from lifelines.statistics import logrank_test\n",
    "\n",
    "# Load your data\n",
    "data = pd.read_csv('ALL_MICE.csv')  # Adjust the path to your CSV file\n",
    "data.dropna(subset=['Lifespan (days)'], inplace=True)\n",
    "\n",
    "data = data[~data['Censored'].isin([1, 2])]\n",
    "data.dropna(subset=['Lifespan (days)'], inplace=True)\n",
    "\n",
    "\n",
    "# Function to update code options based on selected batch and gender\n",
    "def update_code_options(batch_dropdown, gender_dropdown, code_dropdown):\n",
    "    batch = batch_dropdown.value\n",
    "    gender = gender_dropdown.value\n",
    "    if gender == 'All' or batch == 'All':\n",
    "        code_options = ['All']\n",
    "    else:\n",
    "        code_options = ['All'] + list(data[(data['Batch'] == batch) & (data['Gender'] == gender)]['Code'].unique())\n",
    "    code_dropdown.options = code_options\n",
    "    code_dropdown.value = 'All'\n",
    "\n",
    "# Function to create a condition set\n",
    "def create_condition_set(description_suffix=''):\n",
    "    batch_dropdown = widgets.Dropdown(options=['All'] + list(data['Batch'].unique()), description=f'Batch{description_suffix}:', value='All')\n",
    "    gender_dropdown = widgets.Dropdown(options=['All'], description=f'Gender{description_suffix}:', value='All')\n",
    "    code_dropdown = widgets.Dropdown(options=['All'], description=f'Code{description_suffix}:', value='All')\n",
    "    \n",
    "    def on_batch_change(change):\n",
    "        batch = change['new']\n",
    "        gender_options = ['All'] + list(data[data['Batch'] == batch]['Gender'].unique()) if batch != 'All' else ['All']\n",
    "        gender_dropdown.options = gender_options\n",
    "        gender_dropdown.value = 'All'\n",
    "        update_code_options(batch_dropdown, gender_dropdown, code_dropdown)\n",
    "    \n",
    "    def on_gender_change(change):\n",
    "        update_code_options(batch_dropdown, gender_dropdown, code_dropdown)\n",
    "    \n",
    "    batch_dropdown.observe(on_batch_change, names='value')\n",
    "    gender_dropdown.observe(on_gender_change, names='value')\n",
    "    \n",
    "    return batch_dropdown, gender_dropdown, code_dropdown\n",
    "\n",
    "def calculate_auc(kmf):\n",
    "    # Access the survival function data\n",
    "    survival_function = kmf.survival_function_\n",
    "    times = survival_function.index\n",
    "    probabilities = survival_function[\"KM_estimate\"].values\n",
    "    \n",
    "    # Calculate the area under the curve as the sum of rectangles\n",
    "    auc = sum((times[i+1] - times[i]) * probabilities[i] for i in range(len(times)-1))\n",
    "    \n",
    "    return auc\n",
    "\n",
    "# Plot_survival_curve function to calculate and display AUC, Delta AUC, and p-value\n",
    "def plot_survival_curve(b):\n",
    "    with plot_output:\n",
    "        clear_output(wait=True)\n",
    "        plt.figure(figsize=(10, 6))\n",
    "\n",
    "        datasets = []  # To store filtered data for statistical comparison\n",
    "        auc_values = []  # To store AUC values for comparison\n",
    "        labels = []  # To store labels for comparison\n",
    "        \n",
    "        # Loop through each condition set\n",
    "        for idx, condition_set in enumerate(condition_sets, start=1):\n",
    "            batch, gender, code = (dropdown.value for dropdown in condition_set)\n",
    "            batch = batch if batch != 'All' else None\n",
    "            gender = gender if gender != 'All' else None\n",
    "            code = code if code != 'All' else None\n",
    "            \n",
    "            # Filter data based on selections\n",
    "            conditions = {}\n",
    "            if batch:\n",
    "                conditions['Batch'] = batch\n",
    "            if gender:\n",
    "                conditions['Gender'] = gender\n",
    "            if code:\n",
    "                conditions['Code'] = code\n",
    "            \n",
    "            filtered_data = data\n",
    "            for condition_key, condition_value in conditions.items():\n",
    "                filtered_data = filtered_data[filtered_data[condition_key] == condition_value]\n",
    "            \n",
    "            if not filtered_data.empty:\n",
    "                datasets.append(filtered_data)  # Add filtered data for comparison\n",
    "                # Fit the model and plot\n",
    "                kmf = KaplanMeierFitter()\n",
    "                kmf.fit(durations=filtered_data['Lifespan (days)'], event_observed=filtered_data['Dead'])\n",
    "                auc = calculate_auc(kmf)\n",
    "                auc_values.append(auc)  # Store AUC value for this condition\n",
    "                label = f'Cond {idx}: {batch if batch else \"All\"} - {gender if gender else \"All\"} - {code if code else \"All\"} (AUC: {auc:.4f})'\n",
    "                labels.append(label)\n",
    "                kmf.plot_survival_function(ci_show=False, label=label)\n",
    "        \n",
    "        # Calculate and display log-rank test if there are exactly two datasets for comparison\n",
    "        p_value = None\n",
    "        if len(datasets) == 2:\n",
    "            results = logrank_test(datasets[0]['Lifespan (days)'], datasets[1]['Lifespan (days)'],\n",
    "                                   event_observed_A=datasets[0]['Dead'], event_observed_B=datasets[1]['Dead'])\n",
    "            p_value = results.p_value\n",
    "        \n",
    "        # Display AUCs and calculate Delta AUC if two AUCs are present\n",
    "        delta_auc = None\n",
    "        if len(auc_values) == 2:\n",
    "            delta_auc = abs(auc_values[1] - auc_values[0]) / auc_values[0] * 100  # Delta AUC in percentage\n",
    "        \n",
    "        # Title and legend adjustments\n",
    "        title = 'Survival Curve Comparison'\n",
    "        if p_value is not None:\n",
    "            title += f' - p-value: {p_value:.4f}'\n",
    "        if delta_auc is not None:\n",
    "            title += f' - Delta AUC: {delta_auc:.2f}%'\n",
    "        plt.title(title)\n",
    "        \n",
    "        plt.xlabel('Lifespan (days)')\n",
    "        plt.ylabel('Survival Probability')\n",
    "        plt.ylim(0, 1)\n",
    "        plt.xlim(0, 1200)\n",
    "        plt.legend()\n",
    "        plt.show()\n",
    "\n",
    "        # Optionally print the AUC values and Delta AUC directly if needed\n",
    "        for label, auc in zip(labels, auc_values):\n",
    "            print(f\"{label}\")\n",
    "        if delta_auc is not None:\n",
    "            print(f\"Delta AUC (percentage): {delta_auc:.2f}%\")\n",
    "\n",
    "# Create an output widget for the plot\n",
    "plot_output = widgets.Output()\n",
    "\n",
    "# Create condition sets\n",
    "condition_set_1 = create_condition_set(' 1')\n",
    "condition_set_2 = create_condition_set(' 2')\n",
    "condition_sets = [condition_set_1, condition_set_2]\n",
    "\n",
    "# Create a button to plot the survival curve\n",
    "plot_button = widgets.Button(description='Plot Survival Curve')\n",
    "plot_button.on_click(plot_survival_curve)\n",
    "\n",
    "# Display the widgets\n",
    "for condition_set in condition_sets:\n",
    "    display(*condition_set)\n",
    "display(plot_button, plot_output)\n"
   ]
  },
  {
   "cell_type": "code",
   "execution_count": null,
   "id": "724b694d-2972-4436-92ff-31d17ca4a2e6",
   "metadata": {},
   "outputs": [],
   "source": []
  }
 ],
 "metadata": {
  "kernelspec": {
   "display_name": "Python 3 (ipykernel)",
   "language": "python",
   "name": "python3"
  },
  "language_info": {
   "codemirror_mode": {
    "name": "ipython",
    "version": 3
   },
   "file_extension": ".py",
   "mimetype": "text/x-python",
   "name": "python",
   "nbconvert_exporter": "python",
   "pygments_lexer": "ipython3",
   "version": "3.12.1"
  }
 },
 "nbformat": 4,
 "nbformat_minor": 5
}
